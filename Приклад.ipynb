{
 "cells": [
  {
   "cell_type": "code",
   "execution_count": 2,
   "metadata": {
    "dotnet_interactive": {
     "language": "csharp"
    },
    "polyglot_notebook": {
     "kernelName": "csharp"
    }
   },
   "outputs": [
    {
     "data": {
      "text/html": [
       "<div><div></div><div></div><div><strong>Installed Packages</strong><ul><li><span>DotNetInteractive.FSharp.Ukrainian, 0.0.1</span></li></ul></div></div>"
      ]
     },
     "metadata": {},
     "output_type": "display_data"
    },
    {
     "data": {
      "text/plain": [
       "Loading extensions from `C:\\Users\\User\\.nuget\\packages\\dotnetinteractive.fsharp.ukrainian\\0.0.1\\interactive-extensions\\dotnet\\DotNetInteractive.FSharp.Ukrainian.dll`"
      ]
     },
     "metadata": {},
     "output_type": "display_data"
    },
    {
     "data": {
      "text/html": [
       "<details><summary>Пиши, компілюй та запускай Ф# код.</summary></details>\r\n",
       "<p>Це розширення додає підтримку для <a href=\"https://github.com/kant2002/fsharp\">Ф#</a>. Спробуй цей код:</p>\r\n",
       "<pre>\r\n",
       "    <code>\r\n",
       "    нехай хтось = \"Мир\"\r\n",
       "    printf \"Добридень %s\" хтось\r\n",
       "    </code>\r\n",
       "</pre>\r\n"
      ]
     },
     "metadata": {},
     "output_type": "display_data"
    }
   ],
   "source": [
    "#r \"nuget:DotNetInteractive.FSharp.Ukrainian,0.0.1\""
   ]
  },
  {
   "attachments": {},
   "cell_type": "markdown",
   "metadata": {
    "dotnet_interactive": {
     "language": "csharp"
    },
    "polyglot_notebook": {
     "kernelName": "csharp"
    }
   },
   "source": [
    "Класичний старт у будь якій мові. Привітання від комп'ютера."
   ]
  },
  {
   "cell_type": "code",
   "execution_count": 3,
   "metadata": {
    "dotnet_interactive": {
     "language": "fsharpua"
    },
    "polyglot_notebook": {
     "kernelName": "fsharpua"
    }
   },
   "outputs": [
    {
     "name": "stdout",
     "output_type": "stream",
     "text": [
      "Добридень Мир"
     ]
    }
   ],
   "source": [
    "нехай назва = \"Мир\"\n",
    "printf \"Добридень %s\" назва"
   ]
  },
  {
   "attachments": {},
   "cell_type": "markdown",
   "metadata": {
    "dotnet_interactive": {
     "language": "fsharpua"
    },
    "polyglot_notebook": {
     "kernelName": "fsharpua"
    }
   },
   "source": [
    "Тепер можна спробувати зробити функцію, яка буде робити вітання."
   ]
  },
  {
   "cell_type": "code",
   "execution_count": 4,
   "metadata": {
    "dotnet_interactive": {
     "language": "fsharpua"
    },
    "polyglot_notebook": {
     "kernelName": "fsharpua"
    }
   },
   "outputs": [
    {
     "name": "stdout",
     "output_type": "stream",
     "text": [
      "Привіт Ганна. Це Ф#!\n"
     ]
    }
   ],
   "source": [
    "// Оголошення нової функції для друку імені\n",
    "нехай напечататиПривітання ім'я =\n",
    "    printfn $\"Привіт {ім'я}. Це Ф#!\"\n",
    "\n",
    "// Викличте свою нову функцію!\n",
    "напечататиПривітання \"Ганна\"\n"
   ]
  },
  {
   "attachments": {},
   "cell_type": "markdown",
   "metadata": {
    "dotnet_interactive": {
     "language": "fsharpua"
    },
    "polyglot_notebook": {
     "kernelName": "fsharpua"
    }
   },
   "source": [
    "# Керування потоком виконання\n",
    "\n",
    "## Створення гілку коду використовуючи конструкцію `якщо`.\n",
    "\n",
    "Конструкція `якщо` визначає Логічний вираз. Якщо вираз визначається як `істина`, програма виконує конкретну гілку коду. Ось як виглядає сінтаксіс конструкції `якщо`:\n",
    "```\n",
    "якщо <condition> тоді <expression>\n",
    "```\n",
    "Або більш конкретно:"
   ]
  },
  {
   "cell_type": "code",
   "execution_count": 5,
   "metadata": {
    "dotnet_interactive": {
     "language": "fsharpua"
    },
    "polyglot_notebook": {
     "kernelName": "fsharpua"
    }
   },
   "outputs": [
    {
     "name": "stdout",
     "output_type": "stream",
     "text": [
      "Громадянин у літах\n"
     ]
    }
   ],
   "source": [
    "нехай вік = 66\n",
    "якщо вік > 65 \n",
    "тоді printfn \"Громадянин у літах\""
   ]
  },
  {
   "attachments": {},
   "cell_type": "markdown",
   "metadata": {
    "dotnet_interactive": {
     "language": "fsharpua"
    },
    "polyglot_notebook": {
     "kernelName": "fsharpua"
    }
   },
   "source": [
    "## Визначити альтернативну гілку через викорисання частини інакше\n",
    "Коли інструкція `якщо` визначається як `ложь`, використовуйте частину `інакше` із конструкцією `якщо` щоб виконати іншу гілку коду.\n",
    "\n",
    "Ось як ви можете використовувати частину `інакше`:"
   ]
  },
  {
   "cell_type": "code",
   "execution_count": 7,
   "metadata": {
    "dotnet_interactive": {
     "language": "fsharpua"
    },
    "polyglot_notebook": {
     "kernelName": "fsharpua"
    }
   },
   "outputs": [
    {
     "name": "stdout",
     "output_type": "stream",
     "text": [
      "Громадянин\n"
     ]
    }
   ],
   "source": [
    "нехай вік = 64\n",
    "якщо вік > 65 \n",
    "тоді printfn \"Громадянин у літах\"\n",
    "інакше printfn \"Громадянин\""
   ]
  }
 ],
 "metadata": {
  "kernelspec": {
   "display_name": ".NET (C#)",
   "language": "C#",
   "name": ".net-csharp"
  },
  "polyglot_notebook": {
   "kernelInfo": {
    "defaultKernelName": "csharp",
    "items": [
     {
      "aliases": [],
      "name": "csharp"
     },
     {
      "aliases": [
       "frontend"
      ],
      "languageName": null,
      "name": "vscode"
     },
     {
      "aliases": [],
      "languageName": "Ф#",
      "name": "fsharpua"
     }
    ]
   }
  }
 },
 "nbformat": 4,
 "nbformat_minor": 2
}
