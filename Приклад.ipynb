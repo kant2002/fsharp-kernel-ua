{
 "cells": [
  {
   "cell_type": "code",
   "execution_count": 1,
   "metadata": {
    "dotnet_interactive": {
     "language": "csharp"
    },
    "polyglot_notebook": {
     "kernelName": "csharp"
    }
   },
   "outputs": [
    {
     "data": {
      "text/html": [
       "<div><div></div><div></div><div><strong>Installed Packages</strong><ul><li><span>DotNetInteractive.FSharp.Ukrainian, 0.0.1</span></li></ul></div></div>"
      ]
     },
     "metadata": {},
     "output_type": "display_data"
    },
    {
     "data": {
      "text/plain": [
       "Loading extensions from `D:\\kant\\cache\\nuget\\packages\\dotnetinteractive.fsharp.ukrainian\\0.0.1\\interactive-extensions\\dotnet\\DotNetInteractive.FSharp.Ukrainian.dll`"
      ]
     },
     "metadata": {},
     "output_type": "display_data"
    },
    {
     "data": {
      "text/html": [
       "<details><summary>Пиши, компілюй та запускай Ф# код.</summary></details>\r\n",
       "<p>Це розширення додає підтримку для <a href=\"https://github.com/kant2002/fsharp\">Ф#</a>. Спробуй цей код:</p>\r\n",
       "<pre>\r\n",
       "    <code>\r\n",
       "    нехай хтось = \"Мир\"\r\n",
       "    printf \"Добридень %s\" хтось\r\n",
       "    </code>\r\n",
       "</pre>\r\n"
      ]
     },
     "metadata": {},
     "output_type": "display_data"
    }
   ],
   "source": [
    "#r \"nuget:DotNetInteractive.FSharp.Ukrainian,0.0.1\""
   ]
  },
  {
   "cell_type": "code",
   "execution_count": 2,
   "metadata": {
    "dotnet_interactive": {
     "language": "fsharpua"
    },
    "polyglot_notebook": {
     "kernelName": "fsharpua"
    }
   },
   "outputs": [
    {
     "name": "stdout",
     "output_type": "stream",
     "text": [
      "Добридень Мир"
     ]
    }
   ],
   "source": [
    "\n",
    "нехай назва = \"Мир\"\n",
    "printf \"Добридень %s\" назва"
   ]
  }
 ],
 "metadata": {
  "kernelspec": {
   "display_name": ".NET (C#)",
   "language": "C#",
   "name": ".net-csharp"
  },
  "polyglot_notebook": {
   "kernelInfo": {
    "defaultKernelName": "csharp",
    "items": [
     {
      "aliases": [],
      "name": "csharp"
     }
    ]
   }
  }
 },
 "nbformat": 4,
 "nbformat_minor": 2
}
