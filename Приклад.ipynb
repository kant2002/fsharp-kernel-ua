{
 "cells": [
  {
   "cell_type": "code",
   "execution_count": 1,
   "metadata": {
    "dotnet_interactive": {
     "language": "csharp"
    },
    "polyglot_notebook": {
     "kernelName": "csharp"
    }
   },
   "outputs": [
    {
     "data": {
      "text/html": [
       "<div><div><strong>Restore sources</strong><ul><li><span>C:\\d\\github\\FSharp.Core.Multilingual\\FSharp.Core.Ukrainian\\bin\\Release\\</span></li></ul></div><div></div><div><strong>Installed Packages</strong><ul><li><span>DotNetInteractive.FSharp.Ukrainian, 0.0.1</span></li></ul></div></div>"
      ]
     },
     "metadata": {},
     "output_type": "display_data"
    },
    {
     "data": {
      "text/plain": [
       "Loading extensions from `C:\\Users\\User\\.nuget\\packages\\dotnetinteractive.fsharp.ukrainian\\0.0.1\\interactive-extensions\\dotnet\\DotNetInteractive.FSharp.Ukrainian.dll`"
      ]
     },
     "metadata": {},
     "output_type": "display_data"
    },
    {
     "data": {
      "text/html": [
       "<details><summary>Пиши, компілюй та запускай Ф# код.</summary></details>\r\n",
       "<p>Це розширення додає підтримку для <a href=\"https://github.com/kant2002/fsharp\">Ф#</a>. Спробуй цей код:</p>\r\n",
       "<pre>\r\n",
       "    <code>\r\n",
       "    нехай хтось = \"Мир\"\r\n",
       "    printf \"Добридень %s\" хтось\r\n",
       "    </code>\r\n",
       "</pre>\r\n"
      ]
     },
     "metadata": {},
     "output_type": "display_data"
    }
   ],
   "source": [
    "#i \"C:\\d\\github\\FSharp.Core.Multilingual\\FSharp.Core.Ukrainian\\bin\\Release\\\"\n",
    "#r \"nuget:DotNetInteractive.FSharp.Ukrainian,0.0.1\""
   ]
  },
  {
   "attachments": {},
   "cell_type": "markdown",
   "metadata": {
    "dotnet_interactive": {
     "language": "csharp"
    },
    "polyglot_notebook": {
     "kernelName": "csharp"
    }
   },
   "source": [
    "Ініціалізація останньої версії Фшарп.Ядро"
   ]
  },
  {
   "cell_type": "code",
   "execution_count": 2,
   "metadata": {
    "dotnet_interactive": {
     "language": "fsharpua"
    },
    "polyglot_notebook": {
     "kernelName": "fsharpua"
    }
   },
   "outputs": [],
   "source": [
    "#r \"nuget:FSharp.Core.Ukrainian,0.0.3-dev\""
   ]
  },
  {
   "attachments": {},
   "cell_type": "markdown",
   "metadata": {
    "dotnet_interactive": {
     "language": "csharp"
    },
    "polyglot_notebook": {
     "kernelName": "csharp"
    }
   },
   "source": [
    "# Початок\n",
    "Класичний старт у будь якій мові. Привітання від комп'ютера."
   ]
  },
  {
   "cell_type": "code",
   "execution_count": 3,
   "metadata": {
    "dotnet_interactive": {
     "language": "fsharpua"
    },
    "polyglot_notebook": {
     "kernelName": "fsharpua"
    }
   },
   "outputs": [
    {
     "name": "stdout",
     "output_type": "stream",
     "text": [
      "Добридень Мир"
     ]
    }
   ],
   "source": [
    "нехай назва = \"Мир\"\n",
    "напечататиф \"Добридень %s\" назва"
   ]
  },
  {
   "attachments": {},
   "cell_type": "markdown",
   "metadata": {
    "dotnet_interactive": {
     "language": "fsharpua"
    },
    "polyglot_notebook": {
     "kernelName": "fsharpua"
    }
   },
   "source": [
    "# Використовування змінних для збереження значень\n",
    "Усі програми зазвичай складаються із багатьох кроків де програма оперує над даними. Під час роботи усіх ціх кроків As part, дуже часто зберігають проміжні результати, дані, у іменованих посиланнях. Потім ви можете читати або маніпулювати даними пізніше. Іменовані посилання зазвичай називаються як змінні.\n",
    "\n",
    "## Змінні, прив'язка значення\n",
    "змінні це іменовані посилання прив'язані до значення, на які ви бажаєте продовжувати посилатися у вашому коді. У Ф#, про це розмірковують як про прив'язку занчення. Отже, що ви робите це присвоюєте, або прив'язуєте, значення до іменованого посилання, змінної. Щоб прив'язати значення, ви використовуєте ключеве слово `нехай`, ім'я вашого посилання і присвоюєте значення до нього, як у коді нижче:"
   ]
  },
  {
   "cell_type": "code",
   "execution_count": 4,
   "metadata": {
    "dotnet_interactive": {
     "language": "fsharpua"
    },
    "polyglot_notebook": {
     "kernelName": "fsharpua"
    }
   },
   "outputs": [],
   "source": [
    "нехай ім'я = \"Богдан\""
   ]
  },
  {
   "attachments": {},
   "cell_type": "markdown",
   "metadata": {
    "dotnet_interactive": {
     "language": "csharp"
    },
    "polyglot_notebook": {
     "kernelName": "csharp"
    }
   },
   "source": [
    "`ім'я` це іменоване посилання і \"Богдан\" його прив'язане значення.\n",
    "\n",
    "Після того як значення присвоюється до змінної, її не можна змінити, вона не змінна. Подальший код не буде компілюватися і створить помилку яка каже щось нкшталт цього \"error FS0027: This value is not mutable.\""
   ]
  },
  {
   "cell_type": "code",
   "execution_count": 5,
   "metadata": {
    "dotnet_interactive": {
     "language": "fsharpua"
    },
    "polyglot_notebook": {
     "kernelName": "fsharpua"
    }
   },
   "outputs": [
    {
     "ename": "Error",
     "evalue": "input.fsx (2,1)-(2,17) typecheck error This value is not mutable. Consider using the mutable keyword, e.g. 'let mutable ім'я = expression'.",
     "output_type": "error",
     "traceback": [
      "input.fsx (2,1)-(2,17) typecheck error This value is not mutable. Consider using the mutable keyword, e.g. 'let mutable ім'я = expression'."
     ]
    }
   ],
   "source": [
    "нехай ім'я = \"Богдан\"\n",
    "ім'я <- \"Сергій\" // заборонено"
   ]
  },
  {
   "attachments": {},
   "cell_type": "markdown",
   "metadata": {
    "dotnet_interactive": {
     "language": "csharp"
    },
    "polyglot_notebook": {
     "kernelName": "csharp"
    }
   },
   "source": [
    "# Зробимо ії змінливою\n",
    "Ви можете змінювати змінні, але ви повинні дати сигнал що ви бажаєте зробити іх змінними. Використовуючи ключове слово `змінливий` у декларації вашої змінной ви зможете змінити значення без помилки компіляції, як у наступному коді:"
   ]
  },
  {
   "cell_type": "code",
   "execution_count": 6,
   "metadata": {
    "dotnet_interactive": {
     "language": "fsharpua"
    },
    "polyglot_notebook": {
     "kernelName": "fsharpua"
    }
   },
   "outputs": [],
   "source": [
    "нехай змінливий ім'я = \"Богдан\"\n",
    "ім'я <- \"Сергій\" // Ця команда зараз дозволена"
   ]
  },
  {
   "attachments": {},
   "cell_type": "markdown",
   "metadata": {
    "dotnet_interactive": {
     "language": "csharp"
    },
    "polyglot_notebook": {
     "kernelName": "csharp"
    }
   },
   "source": [
    "# Типи змінних\n",
    "\n",
    "Різномаїття типов існує у Ф#. Багато що із цих типов відносяться до зберігання чисел різних розмірів та із дробями або без них. Інші типи ассоціюються із текстовими строками або Логічними (Boolean) змінними. Ось список типів із якими ви найімовірніше зустрінетесь коли ви почнете навчанння ф#.\n",
    "\n",
    "| Тип           | Опис |\n",
    "| ----          | ----------- |\n",
    "| логічний      | Можливі значення `істина` або `ложь` |\n",
    "| цел           | Значення від -2,147,483,648 до 2,147,483,647. |\n",
    "| строка        | Текст у Юнікоді |\n",
    "| плаваюча, double | 64-бітний тип числа із плаваючеє точкою. |\n",
    "\n",
    "# Тип є виведеним\n",
    "Коли ви оголошуєте змінну, ви можете зробити це із типом або без нього. Якщо ви не зазначете тип коли ви оголошуєте змінну, компілятор Ф# буде намагатися зробити найкраще припущення щодо того який тип повинен бути у значення яке ви присвоюєте до змінной. Розглянемо наступні твердження:"
   ]
  },
  {
   "cell_type": "code",
   "execution_count": 7,
   "metadata": {
    "dotnet_interactive": {
     "language": "fsharpua"
    },
    "polyglot_notebook": {
     "kernelName": "fsharpua"
    }
   },
   "outputs": [],
   "source": [
    "нехай вік = 65 // цел\n",
    "нехай ПІ = 3.14 // плаваюча\n",
    "нехай ім'я = \"моє ім'я\" // строка"
   ]
  },
  {
   "attachments": {},
   "cell_type": "markdown",
   "metadata": {
    "dotnet_interactive": {
     "language": "csharp"
    },
    "polyglot_notebook": {
     "kernelName": "csharp"
    }
   },
   "source": [
    "Компілятор *виведе* тип яким вони повинні бути і буде правий. Ви можете бути більш явні щодо того який тип ви бажаєте. Для присвоєння дати, ви використовуєте синтаксис `ім'яЗмінної:<тип>`, як у цьому коді:"
   ]
  },
  {
   "cell_type": "code",
   "execution_count": 8,
   "metadata": {
    "dotnet_interactive": {
     "language": "fsharpua"
    },
    "polyglot_notebook": {
     "kernelName": "fsharpua"
    }
   },
   "outputs": [],
   "source": [
    "нехай сумма:плаваюча = 0.0"
   ]
  },
  {
   "attachments": {},
   "cell_type": "markdown",
   "metadata": {
    "dotnet_interactive": {
     "language": "fsharpua"
    },
    "polyglot_notebook": {
     "kernelName": "fsharpua"
    }
   },
   "source": [
    "# Печать на екран\n",
    "Тепер можна спробувати зробити функцію, яка буде робити вітання."
   ]
  },
  {
   "cell_type": "code",
   "execution_count": 9,
   "metadata": {
    "dotnet_interactive": {
     "language": "fsharpua"
    },
    "polyglot_notebook": {
     "kernelName": "fsharpua"
    }
   },
   "outputs": [
    {
     "name": "stdout",
     "output_type": "stream",
     "text": [
      "Привіт Ганна. Це Ф#!\n"
     ]
    }
   ],
   "source": [
    "// Оголошення нової функції для друку імені\n",
    "нехай напечататиПривітання ім'я =\n",
    "    напечататифн $\"Привіт {ім'я}. Це Ф#!\"\n",
    "\n",
    "// Викличте свою нову функцію!\n",
    "напечататиПривітання \"Ганна\""
   ]
  },
  {
   "attachments": {},
   "cell_type": "markdown",
   "metadata": {
    "dotnet_interactive": {
     "language": "fsharpua"
    },
    "polyglot_notebook": {
     "kernelName": "fsharpua"
    }
   },
   "source": [
    "# Керування потоком виконання\n",
    "\n",
    "## Створення гілку коду використовуючи конструкцію `якщо`.\n",
    "\n",
    "Конструкція `якщо` визначає Логічний вираз. Якщо вираз визначається як `істина`, програма виконує конкретну гілку коду. Ось як виглядає сінтаксіс конструкції `якщо`:\n",
    "```\n",
    "якщо <умова> тоді <вираз>\n",
    "```\n",
    "Або більш конкретно:"
   ]
  },
  {
   "cell_type": "code",
   "execution_count": 10,
   "metadata": {
    "dotnet_interactive": {
     "language": "fsharpua"
    },
    "polyglot_notebook": {
     "kernelName": "fsharpua"
    }
   },
   "outputs": [
    {
     "name": "stdout",
     "output_type": "stream",
     "text": [
      "Громадянин у літах\n"
     ]
    }
   ],
   "source": [
    "нехай вік = 66\n",
    "якщо вік > 65 \n",
    "тоді напечататифн \"Громадянин у літах\""
   ]
  },
  {
   "attachments": {},
   "cell_type": "markdown",
   "metadata": {
    "dotnet_interactive": {
     "language": "fsharpua"
    },
    "polyglot_notebook": {
     "kernelName": "fsharpua"
    }
   },
   "source": [
    "## Визначити альтернативну гілку через викорисання частини інакше\n",
    "Коли інструкція `якщо` визначається як `ложь`, використовуйте частину `інакше` із конструкцією `якщо` щоб виконати іншу гілку коду.\n",
    "\n",
    "Ось як ви можете використовувати частину `інакше`:"
   ]
  },
  {
   "cell_type": "code",
   "execution_count": 11,
   "metadata": {
    "dotnet_interactive": {
     "language": "fsharpua"
    },
    "polyglot_notebook": {
     "kernelName": "fsharpua"
    }
   },
   "outputs": [
    {
     "name": "stdout",
     "output_type": "stream",
     "text": [
      "Громадянин\n"
     ]
    }
   ],
   "source": [
    "нехай вік = 64\n",
    "якщо вік > 65 \n",
    "тоді напечататифн \"Громадянин у літах\"\n",
    "інакше напечататифн \"Громадянин\""
   ]
  }
 ],
 "metadata": {
  "kernelspec": {
   "display_name": ".NET (C#)",
   "language": "C#",
   "name": ".net-csharp"
  },
  "language_info": {
   "name": "polyglot-notebook"
  },
  "polyglot_notebook": {
   "kernelInfo": {
    "defaultKernelName": "csharp",
    "items": [
     {
      "aliases": [
       "C#",
       "c#"
      ],
      "languageName": "C#",
      "name": "csharp"
     },
     {
      "aliases": [],
      "languageName": "Ф#",
      "name": "fsharpua"
     },
     {
      "aliases": [],
      "languageName": "Mermaid",
      "name": "mermaid"
     },
     {
      "aliases": [
       "frontend"
      ],
      "name": "vscode"
     }
    ]
   }
  }
 },
 "nbformat": 4,
 "nbformat_minor": 2
}
